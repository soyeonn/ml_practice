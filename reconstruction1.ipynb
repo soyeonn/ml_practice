{
 "cells": [
  {
   "cell_type": "code",
   "execution_count": 1,
   "metadata": {},
   "outputs": [],
   "source": [
    "def flatten(subject_list):\n",
    "    from nilearn.masking import compute_epi_mask\n",
    "    from nilearn.masking import apply_mask\n",
    "    import numpy as np\n",
    "    import pandas as pd\n",
    "    \n",
    "    example = ('/home/soyeon/output/datasink/norm_spm/sub-01_fwhm6/wcon_0007.nii')\n",
    "    mask_img = compute_epi_mask(example)\n",
    "    \n",
    "    flattened = []\n",
    "    for i in subject_list:\n",
    "        func_filename = ('/home/soyeon/output/datasink/norm_spm/sub-%s_fwhm6/wcon_0007.nii' % i)\n",
    "        \n",
    "        masked_data = apply_mask(func_filename, mask_img)\n",
    "        flattened.append(masked_data)\n",
    "        \n",
    "    return flattened"
   ]
  },
  {
   "cell_type": "code",
   "execution_count": 2,
   "metadata": {},
   "outputs": [],
   "source": [
    "subject = ['01', '02', '03', '04', '05']"
   ]
  },
  {
   "cell_type": "code",
   "execution_count": 4,
   "metadata": {},
   "outputs": [
    {
     "name": "stderr",
     "output_type": "stream",
     "text": [
      "/home/soyeon/anaconda3/lib/python3.6/site-packages/h5py/__init__.py:36: FutureWarning: Conversion of the second argument of issubdtype from `float` to `np.floating` is deprecated. In future, it will be treated as `np.float64 == np.dtype(float).type`.\n",
      "  from ._conv import register_converters as _register_converters\n"
     ]
    },
    {
     "data": {
      "text/plain": [
       "matrix([[ 1.3343841e+00,  1.3226473e+00,  1.4751253e+00, ...,\n",
       "          1.4375032e+00,  1.3642037e+00,  1.3511599e+00],\n",
       "        [-2.5079459e-01, -2.4683776e-01, -3.3030340e-01, ...,\n",
       "          1.6328037e-01,  1.7790380e-01,  2.1085560e-01],\n",
       "        [-3.9348095e-03, -3.0596153e-04,  6.7061135e-03, ...,\n",
       "         -4.6917784e-01, -4.4048434e-01, -4.4457027e-01],\n",
       "        [ 2.8308675e-01,  2.3318020e-01,  3.6193678e-01, ...,\n",
       "          6.9401667e-02, -5.4982912e-02,  1.6527932e-02],\n",
       "        [ 3.8242038e-02,  3.6045965e-02,  1.4637532e-02, ...,\n",
       "         -1.8376900e+00, -1.9014354e+00, -1.8625101e+00]], dtype=float32)"
      ]
     },
     "execution_count": 4,
     "metadata": {},
     "output_type": "execute_result"
    }
   ],
   "source": [
    "import numpy as np\n",
    "A = np.asmatrix(flatten(subject))\n",
    "A"
   ]
  },
  {
   "cell_type": "code",
   "execution_count": 5,
   "metadata": {},
   "outputs": [
    {
     "data": {
      "text/plain": [
       "(5, 686564)"
      ]
     },
     "execution_count": 5,
     "metadata": {},
     "output_type": "execute_result"
    }
   ],
   "source": [
    "A.shape"
   ]
  },
  {
   "cell_type": "code",
   "execution_count": 6,
   "metadata": {},
   "outputs": [],
   "source": [
    "%matplotlib inline"
   ]
  },
  {
   "cell_type": "code",
   "execution_count": 7,
   "metadata": {},
   "outputs": [
    {
     "data": {
      "image/png": "[encoded data removed]",
      "text/plain": [
       "<Figure size 432x288 with 1 Axes>"
      ]
     },
     "metadata": {},
     "output_type": "display_data"
    }
   ],
   "source": [
    "import matplotlib.pyplot as plt\n",
    "\n",
    "plt.imshow(A, extent=[0,686564,0,5], aspect='auto')\n",
    "plt.show()"
   ]
  },
  {
   "cell_type": "code",
   "execution_count": null,
   "metadata": {},
   "outputs": [],
   "source": []
  }
 ],
 "metadata": {
  "kernelspec": {
   "display_name": "Python 3",
   "language": "python",
   "name": "python3"
  },
  "language_info": {
   "codemirror_mode": {
    "name": "ipython",
    "version": 3
   },
   "file_extension": ".py",
   "mimetype": "text/x-python",
   "name": "python",
   "nbconvert_exporter": "python",
   "pygments_lexer": "ipython3",
   "version": "3.6.5"
  }
 },
 "nbformat": 4,
 "nbformat_minor": 2
}
