{
 "cells": [
  {
   "cell_type": "markdown",
   "metadata": {},
   "source": [
    "# Rename & Move files"
   ]
  },
  {
   "cell_type": "code",
   "execution_count": null,
   "metadata": {},
   "outputs": [],
   "source": [
    "import os\n",
    "import glob\n",
    "os.chdir('/Users/soyeonkim/Desktop/EFAT/rawdata')"
   ]
  },
  {
   "cell_type": "code",
   "execution_count": 16,
   "metadata": {},
   "outputs": [
    {
     "data": {
      "text/plain": [
       "['sub-004', 'sub-003', 'sub-001']"
      ]
     },
     "execution_count": 16,
     "metadata": {},
     "output_type": "execute_result"
    }
   ],
   "source": [
    "os.listdir(\".\")"
   ]
  },
  {
   "cell_type": "code",
   "execution_count": 4,
   "metadata": {},
   "outputs": [],
   "source": [
    "for filename in os.listdir(\".\"):\n",
    "        os.rename(filename, \"{}{}\".format('sub-',filename[4:7]))"
   ]
  },
  {
   "cell_type": "code",
   "execution_count": 5,
   "metadata": {},
   "outputs": [],
   "source": [
    "for filename in os.listdir(\".\"):\n",
    "    os.makedirs(os.path.join(filename, 'anat'))\n",
    "\n",
    "for filename in os.listdir(\".\"):\n",
    "    os.makedirs(os.path.join(filename, 'func')) "
   ]
  },
  {
   "cell_type": "code",
   "execution_count": 6,
   "metadata": {},
   "outputs": [
    {
     "data": {
      "text/plain": [
       "['sub-004', 'sub-003', 'sub-001']"
      ]
     },
     "execution_count": 6,
     "metadata": {},
     "output_type": "execute_result"
    }
   ],
   "source": [
    "os.listdir(\".\")"
   ]
  },
  {
   "cell_type": "code",
   "execution_count": 54,
   "metadata": {},
   "outputs": [],
   "source": [
    "# Remove .DS_Store file\n",
    "for f in os.listdir(\".\"):\n",
    "    current_file = os.path.basename(f)\n",
    "    if current_file == '.DS_Store':\n",
    "        os.remove(f)"
   ]
  },
  {
   "cell_type": "markdown",
   "metadata": {},
   "source": [
    "from pathlib import Path\n",
    "\n",
    "path_efat = Path('~/Desktop/EFAT/rawdata')\n",
    "\n",
    "[str(p) for p in path_efat.glob('*/*_*_EFATS1.nii')]"
   ]
  },
  {
   "cell_type": "code",
   "execution_count": 7,
   "metadata": {},
   "outputs": [
    {
     "data": {
      "text/plain": [
       "['/Users/soyeonkim/Desktop/EFAT/rawdata/sub-004/RDHC004A_11_SPGR.nii',\n",
       " '/Users/soyeonkim/Desktop/EFAT/rawdata/sub-003/RDHC003A_11_SPGR.nii',\n",
       " '/Users/soyeonkim/Desktop/EFAT/rawdata/sub-001/RDHC001A_11_SPGR.nii']"
      ]
     },
     "execution_count": 7,
     "metadata": {},
     "output_type": "execute_result"
    }
   ],
   "source": [
    "S1 = glob.glob('/Users/soyeonkim/Desktop/EFAT/rawdata/*/*_*_EFATS1.nii')\n",
    "S2 = glob.glob('/Users/soyeonkim/Desktop/EFAT/rawdata/*/*_*_EFATS2.nii')\n",
    "S3 = glob.glob('/Users/soyeonkim/Desktop/EFAT/rawdata/*/*_*_EFATS3.nii')\n",
    "S4 = glob.glob('/Users/soyeonkim/Desktop/EFAT/rawdata/*/*_*_EFATS4.nii')\n",
    "anat = glob.glob('/Users/soyeonkim/Desktop/EFAT/rawdata/*/*_*_SPGR.nii')\n",
    "anat"
   ]
  },
  {
   "cell_type": "code",
   "execution_count": 8,
   "metadata": {},
   "outputs": [],
   "source": [
    "for filename in S1:\n",
    "    os.rename(filename, \n",
    "              os.path.join(filename[0:46], \"{}{}{}{}{}\".format('sub-', filename[-18:-15], '_task-EFAT', '_ses-01', '_bold.nii')))\n",
    "    \n",
    "for filename in S2:\n",
    "    os.rename(filename, \n",
    "              os.path.join(filename[0:46], \"{}{}{}{}{}\".format('sub-', filename[-18:-15], '_task-EFAT', '_ses-02', '_bold.nii')))\n",
    "    \n",
    "for filename in S3:\n",
    "    os.rename(filename, \n",
    "              os.path.join(filename[0:46], \"{}{}{}{}{}\".format('sub-', filename[-18:-15], '_task-EFAT', '_ses-03', '_bold.nii')))\n",
    "    \n",
    "for filename in S4:\n",
    "    os.rename(filename, \n",
    "              os.path.join(filename[0:46], \"{}{}{}{}{}\".format('sub-', filename[-18:-15], '_task-EFAT', '_ses-04', '_bold.nii')))\n",
    "    \n",
    "for filename in anat:\n",
    "    os.rename(filename, \n",
    "             os.path.join(filename[0:46], \"{}{}{}{}\".format('sub-', filename[-16:-13], '_T1w', '.nii')))"
   ]
  },
  {
   "cell_type": "code",
   "execution_count": 100,
   "metadata": {},
   "outputs": [
    {
     "data": {
      "text/plain": [
       "['/Users/soyeonkim/Desktop/EFAT/rawdata/sub-001/anat/sub-001_T1w.nii']"
      ]
     },
     "execution_count": 100,
     "metadata": {},
     "output_type": "execute_result"
    }
   ],
   "source": [
    "path_efat = glob.glob('/Users/soyeonkim/Desktop/EFAT/rawdata/sub-001/anat/sub-*_T1w.nii')\n",
    "path_efat"
   ]
  },
  {
   "cell_type": "code",
   "execution_count": 91,
   "metadata": {},
   "outputs": [],
   "source": [
    "import shutil\n",
    "from pathlib import Path\n",
    "\n",
    "for filename in os.listdir(\".\"):\n",
    "    path_func = glob.glob('/Users/soyeonkim/Desktop/EFAT/rawdata/%s/sub-*_task-EFAT_ses-*.nii' %filename)\n",
    "    \n",
    "    for funcfile in path_func:\n",
    "        if os.path.exists(funcfile) == True:\n",
    "            shutil.move(os.path.join(funcfile), os.path.join(funcfile[0:46], 'func', funcfile[46:]))\n",
    "            \n",
    "for filename in os.listdir(\".\"):\n",
    "    path_anat = glob.glob('/Users/soyeonkim/Desktop/EFAT/rawdata/%s/sub-*_T1w.nii' %filename)\n",
    "    \n",
    "    for anatfile in path_anat:\n",
    "        if os.path.exists(anatfile) == True:\n",
    "            shutil.move(os.path.join(anatfile), os.path.join(anatfile[0:46], 'anat', anatfile[46:]))"
   ]
  },
  {
   "cell_type": "markdown",
   "metadata": {},
   "source": [
    "# Create .json file"
   ]
  },
  {
   "cell_type": "code",
   "execution_count": null,
   "metadata": {},
   "outputs": [],
   "source": [
    "# anat .json\n",
    "import json\n",
    "from collections import OrderedDict\n",
    "for filename in os.listdir(\".\"):\n",
    "    if os.path.exists(os.path.join(filename, 'anat')) == True:\n",
    "        data= OrderedDict()\n",
    "        data['RepetitionTime'] = 2.0\n",
    "        data['EchoTime'] = \n",
    "        data['InversionTime'] = \n",
    "        data['FlipAngle'] = \n",
    "        data['TaskName'] = 'EFAT'\n",
    "        data['Manufacturer'] = 'SIEMENS'\n",
    "        data['ManufaturersModelName'] = 'TrioTim'\n",
    "       \n",
    "        root_dir = './'\n",
    "        dataset_json_folder = root_dir + filename + '/anat/'\n",
    "        dataset_json_name= dataset_json_folder + \"{}{}\".format(filename,'_T1w.json')\n",
    "        with open(dataset_json_name, 'w') as ff:\n",
    "            json.dump(data, ff,sort_keys=False, indent=4)"
   ]
  },
  {
   "cell_type": "code",
   "execution_count": null,
   "metadata": {},
   "outputs": [],
   "source": [
    "for filename in os.listdir(\".\"):\n",
    "    if os.path.exists(os.path.join(filename, 'anat')) == True:\n",
    "        root_dir = './'\n",
    "        dataset_json_folder = root_dir + filename + '/anat/'\n",
    "        dataset_json_name= dataset_json_folder + \"{}{}\".format(filename,'_T1w.json')\n",
    "        os.remove(dataset_json_name)"
   ]
  },
  {
   "cell_type": "code",
   "execution_count": null,
   "metadata": {},
   "outputs": [],
   "source": [
    "# func .json\n",
    "import json\n",
    "from collections import OrderedDict\n",
    "\n",
    "for filename in os.listdir(\".\"):\n",
    "    for functask in func_task:\n",
    "        if os.path.exists(os.path.join(filename, 'func')) == True:        \n",
    "            data= OrderedDict()\n",
    "            data['RepetitionTime'] = 2.0\n",
    "            data['EchoTime'] = \n",
    "            data['FlipAngle'] = \n",
    "            data['TaskName'] = EFAT\n",
    "            data['Manufacturer'] = 'SIEMENS'\n",
    "            data['ManufaturersModelName'] = 'TrioTim'\n",
    "            \n",
    "            root_dir = './'\n",
    "            dataset_json_folder = root_dir + filename + '/func/'\n",
    "            dataset_json_name= dataset_json_folder + \"{}{}{}{}\".format(filename,'_task-',functask,'_bold.json')\n",
    "            with open(dataset_json_name, 'w') as ff:\n",
    "                json.dump(data, ff,sort_keys=False, indent=4)"
   ]
  },
  {
   "cell_type": "code",
   "execution_count": null,
   "metadata": {},
   "outputs": [],
   "source": [
    "for filename in os.listdir(\".\"):\n",
    "    for functask in func_task:\n",
    "        if os.path.exists(os.path.join(filename, 'func', \"{}{}{}{}\".format(filename,'_task-',functask,'_bold.json'))) == True:\n",
    "            root_dir = './'\n",
    "            dataset_json_folder = root_dir + filename + '/func/'\n",
    "            dataset_json_name= dataset_json_folder + \"{}{}{}{}\".format(filename,'_task-',functask,'_bold.json')\n",
    "            os.remove(dataset_json_name)"
   ]
  },
  {
   "cell_type": "markdown",
   "metadata": {},
   "source": [
    "# Make .tsv file"
   ]
  },
  {
   "cell_type": "code",
   "execution_count": 101,
   "metadata": {},
   "outputs": [],
   "source": [
    "from shutil import copyfile"
   ]
  },
  {
   "cell_type": "code",
   "execution_count": null,
   "metadata": {},
   "outputs": [],
   "source": []
  }
 ],
 "metadata": {
  "kernelspec": {
   "display_name": "Python 3",
   "language": "python",
   "name": "python3"
  },
  "language_info": {
   "codemirror_mode": {
    "name": "ipython",
    "version": 3
   },
   "file_extension": ".py",
   "mimetype": "text/x-python",
   "name": "python",
   "nbconvert_exporter": "python",
   "pygments_lexer": "ipython3",
   "version": "3.6.4"
  }
 },
 "nbformat": 4,
 "nbformat_minor": 2
}
